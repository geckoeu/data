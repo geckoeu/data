import pandas as pd
df = pd.read_csv("sample.csv")

df.head()
df_expanded = df['Datum;Zeit;Time;Wirkenergie(kWh)'].str.split(";", expand= True)
df_expanded.columns = ['Datum', 'Zeit', 'Time', 'Wirkenergie(kWh)']
df_expanded.reset_index(drop=True, inplace=True)
selected_columns_df = df_expanded[['Datum', 'Zeit', 'Wirkenergie(kWh)']]
selected_columns_df.rename(columns={'Datum': 'Date'}, inplace=True)
selected_columns_df.rename(columns={'Zeit': 'Time'}, inplace=True)
selected_columns_df.rename(columns={'Wirkenergie(kWh)': 'kWh'}, inplace=True)

selected_columns_df.to_csv('new.csv', index=False)

