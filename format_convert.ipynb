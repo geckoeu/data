{
  "nbformat": 4,
  "nbformat_minor": 0,
  "metadata": {
    "colab": {
      "provenance": []
    },
    "kernelspec": {
      "name": "python3",
      "display_name": "Python 3"
    },
    "language_info": {
      "name": "python"
    }
  },
  "cells": [
    {
      "cell_type": "code",
      "execution_count": null,
      "metadata": {
        "id": "sV1XusFjy9NW"
      },
      "outputs": [],
      "source": [
        "import pandas as pd\n",
        "\n",
        "### import the file here\n",
        "df = pd.read_csv(\"03-Mac.csv\")\n",
        "\n",
        "### convert format and change the German languge to English\n",
        "df.head()\n",
        "df_expanded = df['Datum;Zeit;Time;Wirkenergie(kWh)'].str.split(\";\", expand= True)\n",
        "df_expanded.columns = ['Datum', 'Zeit', 'Time', 'Wirkenergie(kWh)']\n",
        "df_expanded.reset_index(drop=True, inplace=True)\n",
        "selected_columns_df = df_expanded[['Datum', 'Zeit', 'Wirkenergie(kWh)']]\n",
        "selected_columns_df.rename(columns={'Datum': 'Date'}, inplace=True)\n",
        "selected_columns_df.rename(columns={'Zeit': 'Time'}, inplace=True)\n",
        "selected_columns_df.rename(columns={'Wirkenergie(kWh)': 'kWh'}, inplace=True)\n",
        "\n",
        "### export to new .csv file\n",
        "\n",
        "selected_columns_df.to_csv('new.csv', index=False)"
      ]
    }
  ]
}